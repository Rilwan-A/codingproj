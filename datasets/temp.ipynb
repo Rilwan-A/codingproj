{
 "cells": [
  {
   "attachments": {},
   "cell_type": "markdown",
   "metadata": {},
   "source": [
    "\n",
    "# Checking the dimensions"
   ]
  },
  {
   "cell_type": "code",
   "execution_count": 61,
   "metadata": {},
   "outputs": [],
   "source": [
    "import numpy as np"
   ]
  },
  {
   "cell_type": "code",
   "execution_count": 62,
   "metadata": {},
   "outputs": [
    {
     "data": {
      "text/plain": [
       "(8772, 12, 248)"
      ]
     },
     "execution_count": 62,
     "metadata": {},
     "output_type": "execute_result"
    }
   ],
   "source": [
    "# ptbxl 248\n",
    "dset_ptbxl = np.load('val_ptbxl_248.npy')\n",
    "dset_ptbxl.shape"
   ]
  },
  {
   "cell_type": "code",
   "execution_count": 63,
   "metadata": {},
   "outputs": [
    {
     "data": {
      "text/plain": [
       "(2000, 100, 14)"
      ]
     },
     "execution_count": 63,
     "metadata": {},
     "output_type": "execute_result"
    }
   ],
   "source": [
    "# MuJoCO\n",
    "dset_mjc = np.load('test_mujoco.npy')\n",
    "dset_mjc.shape"
   ]
  },
  {
   "cell_type": "code",
   "execution_count": 64,
   "metadata": {},
   "outputs": [
    {
     "data": {
      "text/plain": [
       "(10, 291, 100, 37)"
      ]
     },
     "execution_count": 64,
     "metadata": {},
     "output_type": "execute_result"
    }
   ],
   "source": [
    "#Electricity\n",
    "dset_elec_train = np.load('train_electricity.npy')\n",
    "dset_elec_test = np.load('test_electricity.npy')\n",
    "dset_elec_test.shape"
   ]
  },
  {
   "cell_type": "code",
   "execution_count": 65,
   "metadata": {},
   "outputs": [
    {
     "data": {
      "text/plain": [
       "(817, 100, 370)"
      ]
     },
     "execution_count": 65,
     "metadata": {},
     "output_type": "execute_result"
    }
   ],
   "source": [
    "import einops\n",
    "dset_elec_train = einops.rearrange(dset_elec_train, 'c1 d seq c2 -> d seq (c1 c2)')\n",
    "dset_elec_test = einops.rearrange(dset_elec_test, 'c1 d seq c2 -> d seq (c1 c2)')\n",
    "\n",
    "dset_elec_train.shape"
   ]
  },
  {
   "cell_type": "code",
   "execution_count": 66,
   "metadata": {},
   "outputs": [],
   "source": [
    "np.save('train_electricity_v1.npy', dset_elec_train)\n",
    "np.save('test_electricity_v1.npy' , dset_elec_test)"
   ]
  },
  {
   "cell_type": "code",
   "execution_count": 67,
   "metadata": {},
   "outputs": [
    {
     "data": {
      "text/plain": [
       "(2203, 12, 1000)"
      ]
     },
     "execution_count": 67,
     "metadata": {},
     "output_type": "execute_result"
    }
   ],
   "source": [
    "# ptbxl 1000\n",
    "dset_ptbxl = np.load('test_ptbxl_1000.npy')\n",
    "dset_ptbxl.shape"
   ]
  },
  {
   "cell_type": "code",
   "execution_count": 68,
   "metadata": {},
   "outputs": [
    {
     "data": {
      "text/plain": [
       "(33217, 1056, 7)"
      ]
     },
     "execution_count": 68,
     "metadata": {},
     "output_type": "execute_result"
    }
   ],
   "source": [
    "# EETm1\n",
    "dset_eetm1 = np.load('test_ettm1_1056.npy')\n",
    "dset_eetm1.shape"
   ]
  },
  {
   "attachments": {},
   "cell_type": "markdown",
   "metadata": {},
   "source": [
    "# dload yfinance content"
   ]
  },
  {
   "cell_type": "code",
   "execution_count": 69,
   "metadata": {},
   "outputs": [],
   "source": [
    "import yfinance as yf\n",
    "import yfinance\n",
    "from pytickersymbols import PyTickerSymbols\n",
    "import pandas as pd\n",
    "end_date=\"2023-01-10\""
   ]
  },
  {
   "cell_type": "code",
   "execution_count": 70,
   "metadata": {},
   "outputs": [],
   "source": [
    "stock_data = PyTickerSymbols()\n",
    "dow30_yahoo = stock_data.get_dow_jones_nyc_yahoo_tickers()\n",
    "euro50_yahoo = stock_data.get_euro_stoxx_50_frankfurt_yahoo_tickers()\n",
    "\n",
    "hang = [ \"2628.HK\",\"2319.HK\",\"2688.HK\",\"0992.HK\"\n",
    "        ,\"9988.HK\",\"0101.HK\",\"1810.HK\",\"9618.HK\",\n",
    "        \"1044.HK\",\"2331.HK\",\"0883.HK\",\"0017.HK\",\n",
    "        \"1398.HK\",\"0002.HK\",\"9633.HK\",\"2269.HK\",\n",
    "        \"0267.HK\",\"0003.HK\",\"1093.HK\",\"1038.HK\",\n",
    "        \"0027.HK\",\"6690.HK\",\"0241.HK\",\"6098.HK\",\n",
    "        \"1109.HK\",\"0012.HK\",\"2020.HK\",\"3690.HK\",\"1209.HK\",\"0669.HK\"]\n"
   ]
  },
  {
   "cell_type": "code",
   "execution_count": 91,
   "metadata": {},
   "outputs": [
    {
     "name": "stdout",
     "output_type": "stream",
     "text": [
      "[*********************100%***********************]  160 of 160 completed\n",
      "\n",
      "4 Failed downloads:\n",
      "- 0VD.F: 1d data not available for startTime=-2208994789 and endTime=1673305200. Only 100 years worth of day granularity data are allowed to be fetched per request.\n",
      "- STLA.F: No timezone found, symbol may be delisted\n",
      "- NL0013654783.F: No timezone found, symbol may be delisted\n",
      "- NL00150001Q9.F: No timezone found, symbol may be delisted\n",
      "[*********************100%***********************]  160 of 160 completed\n",
      "\n",
      "4 Failed downloads:\n",
      "- 0VD.F: 1d data not available for startTime=-2208994789 and endTime=1673305200. Only 100 years worth of day granularity data are allowed to be fetched per request.\n",
      "- STLA.F: No timezone found, symbol may be delisted\n",
      "- NL0013654783.F: No timezone found, symbol may be delisted\n",
      "- NL00150001Q9.F: No timezone found, symbol may be delisted\n"
     ]
    }
   ],
   "source": [
    "# Downloading data for all stocks\n",
    "stock_data_tz_ignored = yf.download( tickers = \" \".join(dow30_yahoo+euro50_yahoo+hang) ,  # list of tickers\n",
    "            # period = \"10y\",         # time period\n",
    "            end=end_date,\n",
    "            interval = \"1d\",       # trading interval\n",
    "            ignore_tz = False,      # ignore timezone when aligning data from different exchanges?\n",
    "            prepost = False,\n",
    "            auto_adjust= True, # adjust for stock splits etc,\n",
    "            keepna=True,\n",
    "            )    \n",
    "stock_data_tz_ignored.columns =  stock_data_tz_ignored.columns.swaplevel(0, 1)\n",
    "\n",
    "stock_data = yf.download( tickers = \" \".join(dow30_yahoo+euro50_yahoo+hang) ,  # list of tickers\n",
    "            # period = \"10y\",         # time period\n",
    "            end=end_date,\n",
    "            interval = \"1d\",       # trading interval\n",
    "            ignore_tz = True,      # ignore timezone when aligning data from different exchanges?\n",
    "            prepost = False,\n",
    "            auto_adjust= True, # adjust for stock splits etc,\n",
    "            keepna=True,\n",
    "            \n",
    "            )    \n",
    "stock_data.columns =  stock_data.columns.swaplevel(0, 1)"
   ]
  },
  {
   "cell_type": "code",
   "execution_count": 92,
   "metadata": {},
   "outputs": [],
   "source": [
    "# Removing data with less than 10 years of records\n",
    "\n",
    "def filter_data_by_cutoff_date( df_stock:pd.DataFrame, timedelta:str ):\n",
    "\n",
    "    \n",
    "    latest_date = df_stock.index[-1]\n",
    "    cutoff_date = latest_date - pd.Timedelta(timedelta)\n",
    "\n",
    "    # Gathering the rows which have no data prior to cutoff date\n",
    "    df_stock_before_certain_date = df_stock.loc[ df_stock.index < cutoff_date  ]\n",
    "\n",
    "    nan_values = df_stock_before_certain_date.isna()\n",
    "    mask = nan_values.all(axis=0)\n",
    "\n",
    "    df_stock = df_stock.drop( df_stock.columns[mask], axis=1) \n",
    "    \n",
    "    return df_stock\n",
    "\n",
    "timedelta ='10Y'\n",
    "stock_data_tz_ignored = filter_data_by_cutoff_date(stock_data_tz_ignored, timedelta  )\n",
    "stock_data = filter_data_by_cutoff_date(stock_data, timedelta  )\n",
    "        "
   ]
  },
  {
   "cell_type": "code",
   "execution_count": 110,
   "metadata": {},
   "outputs": [
    {
     "name": "stdout",
     "output_type": "stream",
     "text": [
      "[*********************100%***********************]  1 of 1 completed\n",
      "[*********************100%***********************]  1 of 1 completed\n"
     ]
    }
   ],
   "source": [
    "# Getting data for the currency values of Euro/USD and CNY/USD\n",
    "eurusd_data = yf.download( 'EURUSD=X',end=end_date )\n",
    "cnyusd_data = yf.download( 'CNYUSD=X',end=end_date )\n",
    "\n",
    "# Finding latest Date at which all currency date is available\n",
    "eurusd_d0 = eurusd_data.index[0]\n",
    "cnyusd_d0 = cnyusd_data.index[0]\n",
    "\n",
    "latest_date_currency = max(eurusd_d0, eurusd_d0 )\n",
    "\n"
   ]
  },
  {
   "cell_type": "code",
   "execution_count": 147,
   "metadata": {},
   "outputs": [],
   "source": [
    "# Only Keep Stock & Currency Data after date for which they are ALL available\n",
    "eurusd_data = eurusd_data[eurusd_data.index> latest_date_currency ]\n",
    "cnyusd_data = cnyusd_data[cnyusd_data.index> latest_date_currency ]\n",
    "stock_data = stock_data[stock_data.index> latest_date_currency ]\n",
    "stock_data_tz_ignored = stock_data_tz_ignored[ stock_data_tz_ignored.index.map( lambda x:  x.tz_localize(None) ) > latest_date_currency ]\n",
    "# NOTE: questionable correctness since tz is assumed to be based on NY time but tz_ignored is general\n"
   ]
  },
  {
   "cell_type": "code",
   "execution_count": 148,
   "metadata": {},
   "outputs": [
    {
     "data": {
      "text/plain": [
       "array([ True,  True,  True, ...,  True,  True,  True])"
      ]
     },
     "execution_count": 148,
     "metadata": {},
     "output_type": "execute_result"
    }
   ],
   "source": []
  },
  {
   "cell_type": "code",
   "execution_count": 45,
   "metadata": {},
   "outputs": [],
   "source": [
    "# Saving to pickle\n",
    "import pickle \n",
    "\n",
    "pickle.dump( stock_data_tz_ignored, open('train_stock.pkl','wb'))\n",
    "pickle.dump( stock_data, open('train_stock.pkl','wb'))\n"
   ]
  },
  {
   "cell_type": "code",
   "execution_count": null,
   "metadata": {},
   "outputs": [],
   "source": [
    "# Download Data All together\n",
    "\n"
   ]
  },
  {
   "cell_type": "code",
   "execution_count": null,
   "metadata": {},
   "outputs": [],
   "source": [
    "stock.info"
   ]
  }
 ],
 "metadata": {
  "kernelspec": {
   "display_name": "base",
   "language": "python",
   "name": "python3"
  },
  "language_info": {
   "codemirror_mode": {
    "name": "ipython",
    "version": 3
   },
   "file_extension": ".py",
   "mimetype": "text/x-python",
   "name": "python",
   "nbconvert_exporter": "python",
   "pygments_lexer": "ipython3",
   "version": "3.10.8"
  },
  "orig_nbformat": 4,
  "vscode": {
   "interpreter": {
    "hash": "4ff6da9f49b9f84c93a53faa4827b1817fe2b9b96bf3448b358a357a0d1bd022"
   }
  }
 },
 "nbformat": 4,
 "nbformat_minor": 2
}
